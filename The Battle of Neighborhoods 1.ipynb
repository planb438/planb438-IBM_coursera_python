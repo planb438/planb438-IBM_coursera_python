{
    "cells": [
        {
            "metadata": {},
            "cell_type": "markdown",
            "source": "# Peer-graded Assignment: Capstone Project - The Battle of Neighborhoods (Week 1)\n\n\nNow that you have been equipped with the skills and the tools to use location data to explore a geographical location, over the course of two weeks, you will have the opportunity to be as creative as you want and come up with an idea to leverage the Foursquare location data to explore or compare neighborhoods or cities of your choice or to come up with a problem that you can use the Foursquare location data to solve."
        },
        {
            "metadata": {},
            "cell_type": "markdown",
            "source": "## 1) Introduction/Business Problem"
        },
        {
            "metadata": {},
            "cell_type": "markdown",
            "source": "Clearly define a problem or an idea of your choice, where you would need to leverage the Foursquare location data to solve or execute. Remember that data science problems always target an audience and are meant to help a group of stakeholders solve a problem, so make sure that you explicitly describe your audience and why they would care about your problem."
        },
        {
            "metadata": {},
            "cell_type": "markdown",
            "source": "**_The idea of this study is to help people planning to open a new restaurant in Toronto to chose the right location by providing data about the income and population of each neighborhood as well as the competitors already present on the same r\nregions._**"
        },
        {
            "metadata": {},
            "cell_type": "markdown",
            "source": "## 2) Data"
        },
        {
            "metadata": {},
            "cell_type": "markdown",
            "source": "Describe the data that you will be using to solve the problem or execute your idea. Remember that you will need to use the Foursquare location data to solve the problem or execute your idea. You can absolutely use other datasets in combination with the Foursquare location data. So make sure that you provide adequate explanation and discussion, with examples, of the data that you will be using, even if it is only Foursquare location data."
        },
        {
            "metadata": {},
            "cell_type": "markdown",
            "source": "**_To provide the stakeholders the necessary information I'll be combining Toronto's 2016 Census that contains Population, Average income per Neighborhood with Foursquare API to collect competitors on the same neighborhoods._**\n\n**_Toronto's Census data in publicly available at this website: https://www.toronto.ca/city-government/data-research-maps/open-data/open-data-catalogue/#8c732154-5012-9afe-d0cd-ba3ffc813d5a_**\n"
        },
        {
            "metadata": {},
            "cell_type": "markdown",
            "source": "Before we get the data and start exploring it, let's download all the dependencies that we will need."
        },
        {
            "metadata": {},
            "cell_type": "code",
            "source": "import numpy as np # library to handle data in a vectorized manner\n\nimport pandas as pd # library for data analsysis\npd.set_option('display.max_columns', None)\npd.set_option('display.max_rows', None)\n\n!conda install -c conda-forge geopy --yes # uncomment this line if you haven't completed the Foursquare API lab\nfrom geopy.geocoders import Nominatim # convert an address into latitude and longitude values\n\n!conda install -c conda-forge folium=0.5.0 --yes # uncomment this line if you haven't completed the Foursquare API lab\nimport folium # map rendering library\n\nprint('Libraries imported.')",
            "execution_count": null,
            "outputs": []
        },
        {
            "metadata": {},
            "cell_type": "markdown",
            "source": "### 2.1) Download and Explore Dataset"
        },
        {
            "metadata": {},
            "cell_type": "markdown",
            "source": "Using data from 2016 census to collect Toronto's income per neighborhood"
        },
        {
            "metadata": {},
            "cell_type": "code",
            "source": "# Toronto Open Data Catalogue - Neighbourhood Profiles 2016 (CSV)\n# https://www.toronto.ca/city-government/data-research-maps/open-data/open-data-catalogue/#8c732154-5012-9afe-d0cd-ba3ffc813d5a\n\ncsv_path='https://www.toronto.ca/ext/open_data/catalog/data_set_files/2016_neighbourhood_profiles.csv'\ndf = pd.read_csv(csv_path,encoding='latin1')\nprint('Data loaded')",
            "execution_count": null,
            "outputs": []
        },
        {
            "metadata": {},
            "cell_type": "markdown",
            "source": "**Data Sample**\n\nExploring collected data"
        },
        {
            "metadata": {},
            "cell_type": "code",
            "source": "df.head()",
            "execution_count": null,
            "outputs": []
        },
        {
            "metadata": {},
            "cell_type": "markdown",
            "source": "**Colecting neighborhoods names**"
        },
        {
            "metadata": {},
            "cell_type": "code",
            "source": "Neighbourhoods = list(df.columns.values)\nNeighbourhoods = Neighbourhoods[5:]\nprint(Neighbourhoods)",
            "execution_count": null,
            "outputs": []
        },
        {
            "metadata": {},
            "cell_type": "markdown",
            "source": "**Collecting Population per neighborhood**"
        },
        {
            "metadata": {},
            "cell_type": "markdown",
            "source": "Creating a new dataset"
        },
        {
            "metadata": {},
            "cell_type": "code",
            "source": "dfToronto = pd.DataFrame(index=Neighbourhoods, columns=[\"Population_2016\",\"Income_2016\"])\ndfToronto.head()",
            "execution_count": null,
            "outputs": []
        },
        {
            "metadata": {},
            "cell_type": "markdown",
            "source": "Populating the dataset with the data (In Progress)"
        },
        {
            "metadata": {},
            "cell_type": "code",
            "source": "# Population_2016 = Population, 2016\n# Income_2016 = Total income: Average amount ($)\n\n\nfor index, row in dfToronto.iterrows():\n    dfToronto.at[index, 'Population_2016'] = df[index][2]\n    dfToronto.at[index, 'Income_2016'] = df[index][2264]\n    \n\ndfToronto.sort_values('Income_2016')",
            "execution_count": null,
            "outputs": []
        },
        {
            "metadata": {},
            "cell_type": "code",
            "source": "",
            "execution_count": null,
            "outputs": []
        },
        {
            "metadata": {},
            "cell_type": "code",
            "source": "",
            "execution_count": null,
            "outputs": []
        },
        {
            "metadata": {},
            "cell_type": "code",
            "source": "",
            "execution_count": null,
            "outputs": []
        },
        {
            "metadata": {},
            "cell_type": "code",
            "source": "",
            "execution_count": null,
            "outputs": []
        }
    ],
    "metadata": {
        "kernelspec": {
            "name": "python3",
            "display_name": "Python 3.7",
            "language": "python"
        },
        "language_info": {
            "name": "python",
            "version": "3.7.9",
            "mimetype": "text/x-python",
            "codemirror_mode": {
                "name": "ipython",
                "version": 3
            },
            "pygments_lexer": "ipython3",
            "nbconvert_exporter": "python",
            "file_extension": ".py"
        }
    },
    "nbformat": 4,
    "nbformat_minor": 2
}